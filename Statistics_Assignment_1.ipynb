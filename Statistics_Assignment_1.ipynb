{
  "nbformat": 4,
  "nbformat_minor": 0,
  "metadata": {
    "colab": {
      "provenance": []
    },
    "kernelspec": {
      "name": "python3",
      "display_name": "Python 3"
    },
    "language_info": {
      "name": "python"
    }
  },
  "cells": [
    {
      "cell_type": "code",
      "execution_count": null,
      "metadata": {
        "id": "uOYxBDLsVnGd"
      },
      "outputs": [],
      "source": []
    },
    {
      "cell_type": "markdown",
      "source": [
        "1. Explain the different types of data (qualitative and quantitative) and provide examples of each. Discuss\n",
        "nominal, ordinal, interval, and ratio scales.\n",
        " - Qualitative Data: Descriptive and categorical data that cannot be measured numerically. Examples include:\n",
        "\n",
        " - Nominal scale: Categories without an inherent order (e.g., colors of cars: red, blue, green).\n",
        " - Ordinal scale: Categories with a meaningful order (e.g., customer\n",
        " - satisfaction ratings: dissatisfied, neutral, satisfied).\n",
        " - Quantitative Data: Numerical data that can be measured or counted. Examples include:\n",
        "\n",
        " - Interval scale: Numeric data without a true zero (e.g., temperature in Celsius).\n",
        "Ratio scale: Numeric data with a true zero (e.g., height, weight)."
      ],
      "metadata": {
        "id": "7cygW0Q8Vpl0"
      }
    },
    {
      "cell_type": "markdown",
      "source": [
        "2. What are the measures of central tendency, and when should you use each? Discuss the mean, median,\n",
        "and mode with examples and situations where each is appropriate.\n",
        " - Mean: The average of all data points. Suitable for symmetric distributions without outliers.\n",
        "Example: Average test scores of a class.\n",
        " - Median: The middle value of an ordered dataset. Best for skewed distributions or when outliers are present.\n",
        "Example: Median house prices in a locality.\n",
        " - Mode: The most frequent value in a dataset. Useful for categorical data.\n",
        "Example: Most common shoe size sold in a store."
      ],
      "metadata": {
        "id": "6_EYrZ2AVpoo"
      }
    },
    {
      "cell_type": "markdown",
      "source": [
        "3. Explain the concept of dispersion. How do variance and standard deviation measure the spread of data?\n",
        " - Dispersion measures how spread out the data points are around the central tendency.\n",
        "    - Variance: The average squared deviation from the mean.\n",
        "    - Standard Deviation: The square root of variance; represents the average distance of data points from the mean.\n",
        "Example: A smaller standard deviation indicates tightly clustered data; a larger one indicates a wider spread."
      ],
      "metadata": {
        "id": "tsJ6ozi-VprM"
      }
    },
    {
      "cell_type": "markdown",
      "source": [
        "4. What is a box plot, and what can it tell you about the distribution of data?\n",
        " - A box plot (or whisker plot) is a graphical representation of data distribution.\n",
        " -It displays the minimum, first quartile (Q1), median, third quartile (Q3), and maximum.\n",
        " -It highlights:\n",
        "    - Central tendency (median).\n",
        "    - Spread (IQR).\n",
        "    - Potential outliers."
      ],
      "metadata": {
        "id": "FTPeh-yiVpto"
      }
    },
    {
      "cell_type": "markdown",
      "source": [
        "5. Discuss the role of random sampling in making inferences about populations.\n",
        " - Random sampling ensures that every individual in a population has an equal chance of selection. This reduces bias and allows researchers to generalize findings from the sample to the entire population.\n",
        "\n"
      ],
      "metadata": {
        "id": "Yj8o_S-sVpwL"
      }
    },
    {
      "cell_type": "markdown",
      "source": [
        "6. Explain the concept of skewness and its types. How does skewness affect the interpretation of data?\n",
        " - Skewness measures the asymmetry of a distribution:\n",
        "    - Positive Skew: Tail extends to the right; most data points are on the left (e.g., income distribution).\n",
        "    - Negative Skew: Tail extends to the left; most data points are on the right (e.g., age at retirement).\n",
        " - Skewness affects interpretation by influencing the mean, median, and mode."
      ],
      "metadata": {
        "id": "we_CGULSVpyp"
      }
    },
    {
      "cell_type": "markdown",
      "source": [
        "7. What is the interquartile range (IQR), and how is it used to detect outliers?\n",
        " - IQR: The range between the first quartile (Q1) and the third quartile (Q3).\n",
        "    - IQR = Q3-Q1\n",
        " - Detects outliers: Values below Q1-1.5*IQR Or the values above Q3+1.5*IQR are considered outliers."
      ],
      "metadata": {
        "id": "T9EMn8U_Vp1Z"
      }
    },
    {
      "cell_type": "markdown",
      "source": [
        "8. Discuss the conditions under which the binomial distribution is used.\n",
        " - Used when:\n",
        "    - The experiment has 𝑛 independent trials.\n",
        "    - Each trial has two outcomes (success or failure).\n",
        "    - The probability of success (𝑝) is constant.\n",
        " - Example: Flipping a coin 10 times and counting heads."
      ],
      "metadata": {
        "id": "NKP5rjZ-Vp4x"
      }
    },
    {
      "cell_type": "markdown",
      "source": [
        "9. Explain the properties of the normal distribution and the empirical rule (68-95-99.7 rule).\n",
        " - Properties:\n",
        "    - Symmetrical and bell-shaped.\n",
        "    - Mean = Median = Mode.\n",
        "    - Defined by mean (𝜇) and standard deviation (𝜎).\n",
        " - Empirical Rule:\n",
        "    - 68% of data falls within 𝜇±𝜎.\n",
        "    - 95% within 𝜇±2𝜎.\n",
        "    - 99.7% within 𝜇±3𝜎."
      ],
      "metadata": {
        "id": "netC-6J_Vp6r"
      }
    },
    {
      "cell_type": "markdown",
      "source": [
        "10. Provide a real-life example of a Poisson process and calculate the probability for a specific event.\n",
        " - Example: Customers arriving at a store follow a Poisson distribution with an average rate of 5 per hour.\n",
        "    - Probability of 3 customers in an hour\n",
        "\n",
        "    P(X=3)= 3!e−λλ3=6e−5⋅53≈0.14\n",
        ""
      ],
      "metadata": {
        "id": "ZNK8kepFVp9N"
      }
    },
    {
      "cell_type": "markdown",
      "source": [
        "11. Explain what a random variable is and differentiate between discrete and continuous random variables.\n",
        " - Random Variable: A variable that takes numerical values based on the outcome of a random event.\n",
        "    - Discrete: Countable outcomes (e.g., number of heads in coin tosses).\n",
        "    - Continuous: Infinite possible values (e.g., weight of a person).\n"
      ],
      "metadata": {
        "id": "87FWyKcPVp_3"
      }
    },
    {
      "cell_type": "markdown",
      "source": [
        "12. Provide an example dataset, calculate both covariance and correlation, and interpret the results.\n",
        " - Dataset:\n",
        "X: [2, 4, 6, 8]\n",
        "Y: [1, 3, 5, 7]\n",
        "\n",
        "Covariance\n",
        "Cov(X, Y)=\n",
        "n−1\n",
        "∑(X\n",
        "i\n",
        "​\n",
        " −\n",
        "X\n",
        "ˉ\n",
        " )(Y\n",
        "i\n",
        "​\n",
        " −\n",
        "Y\n",
        "ˉ\n",
        " )\n",
        "​\n",
        " =5\n",
        "\n",
        "\n",
        " Correlation\n",
        "\n",
        " Corr(X, Y)=\n",
        "σ\n",
        "X\n",
        "​\n",
        " σ\n",
        "Y\n",
        "​\n",
        "\n",
        "Cov(X, Y)\n",
        "​\n",
        " =1"
      ],
      "metadata": {
        "id": "Z1CbR_fqVqCf"
      }
    },
    {
      "cell_type": "markdown",
      "source": [],
      "metadata": {
        "id": "CT2ptdcbVqFZ"
      }
    },
    {
      "cell_type": "markdown",
      "source": [],
      "metadata": {
        "id": "96pIA7OpVqIJ"
      }
    },
    {
      "cell_type": "markdown",
      "source": [],
      "metadata": {
        "id": "WCPGScPUVqLE"
      }
    },
    {
      "cell_type": "markdown",
      "source": [],
      "metadata": {
        "id": "VtmBmQ6hVqNr"
      }
    },
    {
      "cell_type": "markdown",
      "source": [],
      "metadata": {
        "id": "5gGG9mFwVqQb"
      }
    },
    {
      "cell_type": "markdown",
      "source": [],
      "metadata": {
        "id": "D3qzfLfXVqTE"
      }
    },
    {
      "cell_type": "markdown",
      "source": [],
      "metadata": {
        "id": "Qqukp1-ZVqVq"
      }
    },
    {
      "cell_type": "markdown",
      "source": [],
      "metadata": {
        "id": "1Yib5oPEVqZZ"
      }
    },
    {
      "cell_type": "markdown",
      "source": [],
      "metadata": {
        "id": "zqEBsTx_VqbV"
      }
    },
    {
      "cell_type": "markdown",
      "source": [],
      "metadata": {
        "id": "QyycYsgeVqdX"
      }
    },
    {
      "cell_type": "markdown",
      "source": [],
      "metadata": {
        "id": "Yi8ONkpUVqf8"
      }
    },
    {
      "cell_type": "markdown",
      "source": [],
      "metadata": {
        "id": "brp0C8KKVqiv"
      }
    },
    {
      "cell_type": "markdown",
      "source": [],
      "metadata": {
        "id": "GyAQCHxOVqlZ"
      }
    },
    {
      "cell_type": "markdown",
      "source": [],
      "metadata": {
        "id": "mwFJ-0r_Vqn6"
      }
    },
    {
      "cell_type": "markdown",
      "source": [],
      "metadata": {
        "id": "EmIsp0t1Vqqp"
      }
    },
    {
      "cell_type": "markdown",
      "source": [],
      "metadata": {
        "id": "8rX7QqMGVqtu"
      }
    },
    {
      "cell_type": "markdown",
      "source": [],
      "metadata": {
        "id": "HJxLwYR-VqwV"
      }
    },
    {
      "cell_type": "markdown",
      "source": [],
      "metadata": {
        "id": "CscWq7uFVqyr"
      }
    },
    {
      "cell_type": "markdown",
      "source": [],
      "metadata": {
        "id": "L09wd8yLVq1Q"
      }
    },
    {
      "cell_type": "markdown",
      "source": [],
      "metadata": {
        "id": "j3FkWIFYVq34"
      }
    },
    {
      "cell_type": "markdown",
      "source": [],
      "metadata": {
        "id": "Eb0Oxh43Vq6Z"
      }
    },
    {
      "cell_type": "markdown",
      "source": [],
      "metadata": {
        "id": "VUzUQfETVq9H"
      }
    }
  ]
}